{
  "nbformat": 4,
  "nbformat_minor": 0,
  "metadata": {
    "colab": {
      "provenance": [],
      "authorship_tag": "ABX9TyNRtTu7Ucc29M5RvSJpEYCb",
      "include_colab_link": true
    },
    "kernelspec": {
      "name": "python3",
      "display_name": "Python 3"
    },
    "language_info": {
      "name": "python"
    }
  },
  "cells": [
    {
      "cell_type": "markdown",
      "metadata": {
        "id": "view-in-github",
        "colab_type": "text"
      },
      "source": [
        "<a href=\"https://colab.research.google.com/github/CristhianForero08/Monitoreo-de-Ranking-de-Palabras-Clave-Google/blob/main/Monitoreo_de_Ranking_de_Palabras_Clave_Google.ipynb\" target=\"_parent\"><img src=\"https://colab.research.google.com/assets/colab-badge.svg\" alt=\"Open In Colab\"/></a>"
      ]
    },
    {
      "cell_type": "markdown",
      "source": [
        "#Descubre la posición de tu URL en Google y optimiza tu estrategia SEO\n",
        "\n",
        "## Descripción\n",
        "\n",
        "El **Google Search Position Finder** es una herramienta diseñada para ayudar a las empresas a conocer el ranking de una URL específica en los resultados de búsqueda de Google para una consulta determinada. Esta aplicación extrae las 100 primeras URLs de los resultados de búsqueda, determina la posición de la URL objetivo y proporciona detalles sobre los títulos y las metadescripciones de estas URLs. Los resultados se pueden descargar en un archivo Excel para un análisis más detallado.\n",
        "\n",
        "## Guía de Uso\n",
        "\n",
        "1. **Ejecución**: Asegúrate de ejecutar las dos celdas que contiene el script principal (Ejecución del script) y la interfaz de usuario.\n",
        "\n",
        "![img1.png](data:image/png;base64,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)\n",
        "\n",
        "2. **Interfaz**:\n",
        "    - **Consulta de búsqueda**: Campo para ingresar la consulta que quieres buscar en Google.(por ejemplo, \"mejores prácticas SEO\").\n",
        "    - **URL objetivo**: Campo para ingresar la URL que quieres encontrar en los resultados.(por ejemplo, \"https://www.ejemplo.com\").\n",
        "    - **Código del país**: Campo para ingresar el código del país que se utilizará en la búsqueda.(por ejemplo, \"co\" para Colombia).\n",
        "    - **Código del idioma**: Campo para ingresar el código del idioma que se utilizará en la búsqueda.(por ejemplo, \"en\" para inglés 0 \"es\" para español).\n",
        "    - **Dar click en botón *BUSCAR***\n",
        "    - **Tiempo de ejecución aproximado 5 minutos **\n",
        "    - **Resultados**: Muestra la posición de la URL objetivo y los detalles de las 100 primeras URLs.\n",
        "    - **Descargar resultados**: Proporciona un enlace para descargar los resultados en formato Excel.\n",
        "\n",
        "\n",
        "3. **Resultados**:\n",
        "    - La aplicación mostrará la posición de la URL objetivo en los primeros 100 resultados de búsqueda y proporcionará un resumen de las URLs, títulos y metadescripciones.\n",
        "    - Los resultados también se guardarán en un archivo Excel que puedes descargar para su análisis.\n",
        "\n",
        "Utiliza esta herramienta para monitorear la visibilidad de tu sitio web en los resultados de búsqueda y optimizar tu estrategia SEO.\n"
      ],
      "metadata": {
        "id": "csD5ykGsy_be"
      }
    },
    {
      "cell_type": "code",
      "source": [
        "#@title Ejecución del script\n",
        "\n",
        "\n",
        "%%capture\n",
        "\n",
        "\n",
        "\n",
        "!pip install requests beautifulsoup4 gradio openpyxl\n",
        "\n",
        "import requests\n",
        "from bs4 import BeautifulSoup\n",
        "import gradio as gr\n",
        "import pandas as pd\n",
        "\n",
        "def get_meta_description(url):\n",
        "    try:\n",
        "        response = requests.get(url, headers={'User-Agent': 'Mozilla/5.0'})\n",
        "        response.raise_for_status()\n",
        "        soup = BeautifulSoup(response.text, 'html.parser')\n",
        "        meta = soup.find('meta', attrs={'name': 'description'})\n",
        "        if meta:\n",
        "            return meta.get('content', 'No description')\n",
        "        return 'No description'\n",
        "    except Exception as e:\n",
        "        return f'Error: {str(e)}'\n",
        "\n",
        "def get_google_search_position_and_top_results(query, target_url, country_code, language_code, num_results=100):\n",
        "    headers = {\n",
        "        'User-Agent': 'Mozilla/5.0 (Windows NT 10.0; Win64; x64) AppleWebKit/537.36 (KHTML, like Gecko) Chrome/91.0.4472.124 Safari/537.36'\n",
        "    }\n",
        "\n",
        "    # URL encode the query\n",
        "    query = query.replace(' ', '+')\n",
        "\n",
        "    # Perform the Google search with country and language settings\n",
        "    search_url = f'https://www.google.com/search?q={query}&num={num_results}&hl={language_code}&gl={country_code}'\n",
        "    response = requests.get(search_url, headers=headers)\n",
        "    response.raise_for_status()\n",
        "\n",
        "    # Parse the search results page\n",
        "    soup = BeautifulSoup(response.text, 'html.parser')\n",
        "\n",
        "    # Find all search result links\n",
        "    search_results = soup.find_all('div', {'class': 'g'})\n",
        "\n",
        "    found_position = None\n",
        "    top_results = []\n",
        "    titles = []\n",
        "    metadescriptions = []\n",
        "\n",
        "    for index, result in enumerate(search_results):\n",
        "        link = result.find('a', href=True)\n",
        "        title = result.find('h3')\n",
        "\n",
        "        if link:\n",
        "            url = link['href']\n",
        "            top_results.append(url)\n",
        "            titles.append(title.text if title else 'No title')\n",
        "            metadescription = get_meta_description(url)\n",
        "            metadescriptions.append(metadescription)\n",
        "            if target_url in url and found_position is None:\n",
        "                found_position = index + 1\n",
        "\n",
        "    return found_position, top_results[:100], titles[:100], metadescriptions[:100]\n",
        "\n",
        "def search(query, target_url, country_code, language_code):\n",
        "    position, top_results, titles, metadescriptions = get_google_search_position_and_top_results(query, target_url, country_code, language_code)\n",
        "\n",
        "    # Prepare the output\n",
        "    result_text = \"\\nLas 100 primeras URLs en los resultados de búsqueda son:\\n\"\n",
        "    for i, (url, title, metadesc) in enumerate(zip(top_results, titles, metadescriptions), start=1):\n",
        "        result_text += f\"{i}. URL: {url}\\n   Título: {title}\\n   Metadescripción: {metadesc}\\n\"\n",
        "\n",
        "    if position:\n",
        "        result_text += f\"\\n*****La URL '{target_url}' está en la posición {position} para la consulta '{query}' en el país '{country_code}'.***\"\n",
        "    else:\n",
        "        result_text += f\"\\n***La URL '{target_url}' no se encuentra entre los primeros 100 resultados para la consulta '{query}' en el país '{country_code}'.***\"\n",
        "\n",
        "    # Save results to Excel\n",
        "    df = pd.DataFrame({\n",
        "        'Rank': range(1, len(top_results)+1),\n",
        "        'URL': top_results,\n",
        "        'Title': titles,\n",
        "        'Meta Description': metadescriptions\n",
        "    })\n",
        "    excel_path = f\"/content/resultados: '{query}'.xlsx\"\n",
        "    df.to_excel(excel_path, index=False)\n",
        "\n",
        "    return result_text, excel_path\n",
        "\n",
        "# Gradio interface\n",
        "with gr.Blocks() as demo:\n",
        "    gr.Markdown(\"# Google Search Position Finder - Neogyck\")\n",
        "    query = gr.Textbox(label=\"Consulta de búsqueda\", placeholder=\"Ingrese su consulta de búsqueda\")\n",
        "    target_url = gr.Textbox(label=\"URL objetivo\", placeholder=\"Ingrese la URL para buscar en los resultados\")\n",
        "\n",
        "    country_code = gr.Dropdown(\n",
        "        label=\"Código del país\",\n",
        "        choices=[(\"Colombia\", \"co\"), (\"México\", \"mx\"), (\"España\", \"es\"), (\"Estados Unidos\", \"us\"), (\"Argentina\", \"ar\"), (\"Chile\", \"cl\"), (\"Perú\", \"pe\") ],\n",
        "        value=\"co\",\n",
        "        type=\"value\"\n",
        "    )\n",
        "\n",
        "    language_code = gr.Dropdown(\n",
        "        label=\"Código del idioma\",\n",
        "        choices=[(\"Español\", \"es\"), (\"Inglés\", \"en\")],\n",
        "        value=\"es\",\n",
        "        type=\"value\"\n",
        "    )\n",
        "\n",
        "    output = gr.Textbox(label=\"Resultados\", interactive=False)\n",
        "    file_output = gr.File(label=\"Descargar resultados\")\n",
        "\n",
        "    search_button = gr.Button(\"Buscar\")\n",
        "\n",
        "    def process_search(query, target_url, country_code, language_code):\n",
        "        result_text, excel_path = search(query, target_url, country_code, language_code)\n",
        "        return result_text, excel_path\n",
        "\n",
        "    search_button.click(process_search, [query, target_url, country_code, language_code], [output, file_output])\n",
        "\n",
        "\n",
        "\n",
        "#Descargo de Responsabilidad\n",
        "\n",
        "\n",
        "#La aplicación \"Google Search Position Finder - Neogyck\" y su contenido son proporcionados \"tal cual\" y \"según disponibilidad\". Al utilizar esta aplicación, usted acepta los siguientes términos de descargo de responsabilidad:\n",
        "\n",
        "#Uso Apropiado: La aplicación está diseñada para fines informativos y educativos. El uso inadecuado, ilegal o no autorizado de esta aplicación, incluyendo pero no limitado a la realización de scraping sin permiso o la violación de términos de servicio de terceros, es estrictamente prohibido.\n",
        "\n",
        "#Responsabilidad del Usuario: Usted es el único responsable de cualquier uso que haga de la aplicación. Neogyck no se hace responsable de ningún daño, pérdida o consecuencia que pueda surgir del uso inapropiado o indebido de la aplicación, ni de la exactitud, veracidad o integridad de los resultados obtenidos.\n",
        "\n",
        "#Conformidad Legal: Es su responsabilidad asegurarse de que el uso de la aplicación cumpla con todas las leyes y regulaciones aplicables en su jurisdicción. No nos hacemos responsables de cualquier acción legal que pueda resultar del uso de esta aplicación.\n",
        "\n",
        "#Limitación de Responsabilidad: Neogyck no garantiza que la aplicación esté libre de errores o interrupciones y no se responsabiliza de ningún error o inexactitud en el funcionamiento de la misma. En ningún caso, Neogyck será responsable por daños directos, indirectos, incidentales, especiales o consecuentes, que surjan del uso o la imposibilidad de uso de la aplicación.\n",
        "\n",
        "#Modificaciones: Neogyck se reserva el derecho de modificar, suspender o descontinuar la aplicación en cualquier momento sin previo aviso.\n",
        "\n",
        "#Al utilizar esta aplicación, usted acepta estos términos y condiciones. Si no está de acuerdo con ellos, no utilice la aplicación.\n"
      ],
      "metadata": {
        "id": "BUFKtAG8zPTo"
      },
      "execution_count": 16,
      "outputs": []
    },
    {
      "cell_type": "code",
      "execution_count": 17,
      "metadata": {
        "colab": {
          "base_uri": "https://localhost:8080/",
          "height": 626
        },
        "id": "hYu0NhN0xqK8",
        "outputId": "cc2b4c8d-20ee-4b19-91d9-2042711ac489"
      },
      "outputs": [
        {
          "output_type": "stream",
          "name": "stdout",
          "text": [
            "Setting queue=True in a Colab notebook requires sharing enabled. Setting `share=True` (you can turn this off by setting `share=False` in `launch()` explicitly).\n",
            "\n",
            "Colab notebook detected. To show errors in colab notebook, set debug=True in launch()\n",
            "Running on public URL: https://0276a49cee3cee435c.gradio.live\n",
            "\n",
            "This share link expires in 72 hours. For free permanent hosting and GPU upgrades, run `gradio deploy` from Terminal to deploy to Spaces (https://huggingface.co/spaces)\n"
          ]
        },
        {
          "output_type": "display_data",
          "data": {
            "text/plain": [
              "<IPython.core.display.HTML object>"
            ],
            "text/html": [
              "<div><iframe src=\"https://0276a49cee3cee435c.gradio.live\" width=\"100%\" height=\"500\" allow=\"autoplay; camera; microphone; clipboard-read; clipboard-write;\" frameborder=\"0\" allowfullscreen></iframe></div>"
            ]
          },
          "metadata": {}
        },
        {
          "output_type": "execute_result",
          "data": {
            "text/plain": []
          },
          "metadata": {},
          "execution_count": 17
        }
      ],
      "source": [
        "#Interfaz de usuario\n",
        "demo.launch()\n"
      ]
    }
  ]
}